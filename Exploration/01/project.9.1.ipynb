{
 "cells": [
  {
   "cell_type": "code",
   "execution_count": 20,
   "id": "a5470fb6",
   "metadata": {},
   "outputs": [],
   "source": [
    "from sklearn.model_selection import train_test_split\n",
    "from sklearn.datasets import load_diabetes\n",
    "import pandas as pd"
   ]
  },
  {
   "cell_type": "code",
   "execution_count": 21,
   "id": "1235430e",
   "metadata": {},
   "outputs": [],
   "source": [
    "diabetes = load_diabetes()"
   ]
  },
  {
   "cell_type": "code",
   "execution_count": 22,
   "id": "13b29774",
   "metadata": {},
   "outputs": [],
   "source": [
    "df_X = diabetes.data\n",
    "df_y = diabetes.target"
   ]
  },
  {
   "cell_type": "code",
   "execution_count": 25,
   "id": "57641bb3",
   "metadata": {},
   "outputs": [],
   "source": [
    "df_X = pd.DataFrame(diabetes.data, columns=diabetes.feature_names)\n",
    "df_y = pd.Series(diabetes.target, name='target')"
   ]
  },
  {
   "cell_type": "code",
   "execution_count": 26,
   "id": "6f4e0462",
   "metadata": {},
   "outputs": [
    {
     "name": "stdout",
     "output_type": "stream",
     "text": [
      "df_X is DataFrame: True\n",
      "df_y is Series: True\n"
     ]
    }
   ],
   "source": [
    "print(f\"df_X is DataFrame: {isinstance(df_X, pd.DataFrame)}\")\n",
    "print(f\"df_y is Series: {isinstance(df_y, pd.Series)}\")"
   ]
  },
  {
   "cell_type": "code",
   "execution_count": 39,
   "id": "f172b07a",
   "metadata": {},
   "outputs": [
    {
     "data": {
      "text/html": [
       "<div>\n",
       "<style scoped>\n",
       "    .dataframe tbody tr th:only-of-type {\n",
       "        vertical-align: middle;\n",
       "    }\n",
       "\n",
       "    .dataframe tbody tr th {\n",
       "        vertical-align: top;\n",
       "    }\n",
       "\n",
       "    .dataframe thead th {\n",
       "        text-align: right;\n",
       "    }\n",
       "</style>\n",
       "<table border=\"1\" class=\"dataframe\">\n",
       "  <thead>\n",
       "    <tr style=\"text-align: right;\">\n",
       "      <th></th>\n",
       "      <th>age</th>\n",
       "      <th>sex</th>\n",
       "      <th>bmi</th>\n",
       "      <th>bp</th>\n",
       "      <th>s1</th>\n",
       "      <th>s2</th>\n",
       "      <th>s3</th>\n",
       "      <th>s4</th>\n",
       "      <th>s5</th>\n",
       "      <th>s6</th>\n",
       "    </tr>\n",
       "  </thead>\n",
       "  <tbody>\n",
       "    <tr>\n",
       "      <th>0</th>\n",
       "      <td>0.038076</td>\n",
       "      <td>0.050680</td>\n",
       "      <td>0.061696</td>\n",
       "      <td>0.021872</td>\n",
       "      <td>-0.044223</td>\n",
       "      <td>-0.034821</td>\n",
       "      <td>-0.043401</td>\n",
       "      <td>-0.002592</td>\n",
       "      <td>0.019908</td>\n",
       "      <td>-0.017646</td>\n",
       "    </tr>\n",
       "    <tr>\n",
       "      <th>1</th>\n",
       "      <td>-0.001882</td>\n",
       "      <td>-0.044642</td>\n",
       "      <td>-0.051474</td>\n",
       "      <td>-0.026328</td>\n",
       "      <td>-0.008449</td>\n",
       "      <td>-0.019163</td>\n",
       "      <td>0.074412</td>\n",
       "      <td>-0.039493</td>\n",
       "      <td>-0.068330</td>\n",
       "      <td>-0.092204</td>\n",
       "    </tr>\n",
       "    <tr>\n",
       "      <th>2</th>\n",
       "      <td>0.085299</td>\n",
       "      <td>0.050680</td>\n",
       "      <td>0.044451</td>\n",
       "      <td>-0.005671</td>\n",
       "      <td>-0.045599</td>\n",
       "      <td>-0.034194</td>\n",
       "      <td>-0.032356</td>\n",
       "      <td>-0.002592</td>\n",
       "      <td>0.002864</td>\n",
       "      <td>-0.025930</td>\n",
       "    </tr>\n",
       "    <tr>\n",
       "      <th>3</th>\n",
       "      <td>-0.089063</td>\n",
       "      <td>-0.044642</td>\n",
       "      <td>-0.011595</td>\n",
       "      <td>-0.036656</td>\n",
       "      <td>0.012191</td>\n",
       "      <td>0.024991</td>\n",
       "      <td>-0.036038</td>\n",
       "      <td>0.034309</td>\n",
       "      <td>0.022692</td>\n",
       "      <td>-0.009362</td>\n",
       "    </tr>\n",
       "    <tr>\n",
       "      <th>4</th>\n",
       "      <td>0.005383</td>\n",
       "      <td>-0.044642</td>\n",
       "      <td>-0.036385</td>\n",
       "      <td>0.021872</td>\n",
       "      <td>0.003935</td>\n",
       "      <td>0.015596</td>\n",
       "      <td>0.008142</td>\n",
       "      <td>-0.002592</td>\n",
       "      <td>-0.031991</td>\n",
       "      <td>-0.046641</td>\n",
       "    </tr>\n",
       "  </tbody>\n",
       "</table>\n",
       "</div>"
      ],
      "text/plain": [
       "        age       sex       bmi        bp        s1        s2        s3  \\\n",
       "0  0.038076  0.050680  0.061696  0.021872 -0.044223 -0.034821 -0.043401   \n",
       "1 -0.001882 -0.044642 -0.051474 -0.026328 -0.008449 -0.019163  0.074412   \n",
       "2  0.085299  0.050680  0.044451 -0.005671 -0.045599 -0.034194 -0.032356   \n",
       "3 -0.089063 -0.044642 -0.011595 -0.036656  0.012191  0.024991 -0.036038   \n",
       "4  0.005383 -0.044642 -0.036385  0.021872  0.003935  0.015596  0.008142   \n",
       "\n",
       "         s4        s5        s6  \n",
       "0 -0.002592  0.019908 -0.017646  \n",
       "1 -0.039493 -0.068330 -0.092204  \n",
       "2 -0.002592  0.002864 -0.025930  \n",
       "3  0.034309  0.022692 -0.009362  \n",
       "4 -0.002592 -0.031991 -0.046641  "
      ]
     },
     "execution_count": 39,
     "metadata": {},
     "output_type": "execute_result"
    }
   ],
   "source": [
    "df_X.head()"
   ]
  },
  {
   "cell_type": "code",
   "execution_count": 40,
   "id": "f1d64f23",
   "metadata": {},
   "outputs": [
    {
     "data": {
      "text/plain": [
       "0    151.0\n",
       "1     75.0\n",
       "2    141.0\n",
       "3    206.0\n",
       "4    135.0\n",
       "Name: target, dtype: float64"
      ]
     },
     "execution_count": 40,
     "metadata": {},
     "output_type": "execute_result"
    }
   ],
   "source": [
    "df_y.head()"
   ]
  },
  {
   "cell_type": "code",
   "execution_count": 27,
   "id": "b0c47668",
   "metadata": {},
   "outputs": [],
   "source": [
    "X = df_X.to_numpy()\n",
    "y = df_y.to_numpy()"
   ]
  },
  {
   "cell_type": "code",
   "execution_count": 28,
   "id": "8583cc13",
   "metadata": {},
   "outputs": [
    {
     "name": "stdout",
     "output_type": "stream",
     "text": [
      "슝=3\n"
     ]
    }
   ],
   "source": [
    "X_train, X_test, y_train, y_test = train_test_split(X, y, test_size=0.2, random_state=42)\n",
    "print(\"슝=3\")"
   ]
  },
  {
   "cell_type": "code",
   "execution_count": 29,
   "id": "116343ec",
   "metadata": {},
   "outputs": [
    {
     "name": "stdout",
     "output_type": "stream",
     "text": [
      "X_train shape: (353, 10)\n",
      "X_test shape: (89, 10)\n",
      "y_train shape: (353,)\n",
      "y_test shape: (89,)\n"
     ]
    }
   ],
   "source": [
    "print(\"X_train shape:\", X_train.shape)\n",
    "print(\"X_test shape:\", X_test.shape)\n",
    "print(\"y_train shape:\", y_train.shape)\n",
    "print(\"y_test shape:\", y_test.shape)"
   ]
  },
  {
   "cell_type": "code",
   "execution_count": 31,
   "id": "1497b9e0",
   "metadata": {},
   "outputs": [],
   "source": [
    "import seaborn as sns"
   ]
  },
  {
   "cell_type": "code",
   "execution_count": 32,
   "id": "cd9b8c0b",
   "metadata": {},
   "outputs": [
    {
     "name": "stdout",
     "output_type": "stream",
     "text": [
      "(353, 10) (353,)\n",
      "(89, 10) (89,)\n"
     ]
    }
   ],
   "source": [
    "print(X_train.shape, y_train.shape)\n",
    "print(X_test.shape, y_test.shape)"
   ]
  },
  {
   "cell_type": "code",
   "execution_count": 44,
   "id": "baddc1ad",
   "metadata": {},
   "outputs": [],
   "source": [
    "import numpy as np\n",
    "W=np.random.rand(10)\n",
    "b=np.random.rand()"
   ]
  },
  {
   "cell_type": "code",
   "execution_count": 45,
   "id": "2619891d",
   "metadata": {},
   "outputs": [
    {
     "data": {
      "text/plain": [
       "array([0.82428961, 0.81959993, 0.9889793 , 0.5400024 , 0.92626737,\n",
       "       0.6985748 , 0.40217902, 0.39977115, 0.75238311, 0.84721254])"
      ]
     },
     "execution_count": 45,
     "metadata": {},
     "output_type": "execute_result"
    }
   ],
   "source": [
    "W"
   ]
  },
  {
   "cell_type": "code",
   "execution_count": 53,
   "id": "09b1dc46",
   "metadata": {},
   "outputs": [
    {
     "name": "stdout",
     "output_type": "stream",
     "text": [
      "슝=3\n"
     ]
    }
   ],
   "source": [
    "def model(X, W, b):\n",
    "    predictions = 0\n",
    "    for i in range(10):\n",
    "        predictions += X[:, i] * W[i]\n",
    "    predictions += b\n",
    "    return predictions\n",
    "print(\"슝=3\")"
   ]
  },
  {
   "cell_type": "code",
   "execution_count": 54,
   "id": "b015a9b1",
   "metadata": {},
   "outputs": [],
   "source": [
    "def MSE(predictions, targets):\n",
    "    return np.mean(np.square(predictions - targets))"
   ]
  },
  {
   "cell_type": "code",
   "execution_count": 55,
   "id": "35228ecc",
   "metadata": {},
   "outputs": [
    {
     "name": "stdout",
     "output_type": "stream",
     "text": [
      "슝=3\n"
     ]
    }
   ],
   "source": [
    "def loss(X, W, b, y):\n",
    "    predictions = model(X, W, b)\n",
    "    L = MSE(predictions, y)\n",
    "    return L\n",
    "print(\"슝=3\")"
   ]
  },
  {
   "cell_type": "code",
   "execution_count": 56,
   "id": "946475d3",
   "metadata": {},
   "outputs": [
    {
     "name": "stdout",
     "output_type": "stream",
     "text": [
      "슝=3\n"
     ]
    }
   ],
   "source": [
    "def gradient(X, W, b, y):\n",
    "    N = len(y)\n",
    "    \n",
    "    y_pred = model(X, W, b)\n",
    "    \n",
    "    dW = 1/N * 2 * X.T.dot(y_pred - y)\n",
    "        \n",
    "    db = 2 * (y_pred - y).mean()\n",
    "    return dW, db\n",
    "print(\"슝=3\")"
   ]
  },
  {
   "cell_type": "code",
   "execution_count": 57,
   "id": "31863b93",
   "metadata": {},
   "outputs": [
    {
     "name": "stdout",
     "output_type": "stream",
     "text": [
      "dW: [-1.36627505 -0.30829364 -4.2846603  -3.22318226 -1.53926832 -1.26211717\n",
      "  2.88596323 -3.14031093 -4.13214858 -2.7893611 ]\n",
      "db: -303.7248567252396\n"
     ]
    }
   ],
   "source": [
    "dW, db = gradient(X, W, b, y)\n",
    "print(\"dW:\", dW)\n",
    "print(\"db:\", db)"
   ]
  },
  {
   "cell_type": "code",
   "execution_count": 81,
   "id": "f1c49389",
   "metadata": {},
   "outputs": [],
   "source": [
    "LEARNING_RATE = 1"
   ]
  },
  {
   "cell_type": "code",
   "execution_count": 82,
   "id": "2495f62f",
   "metadata": {},
   "outputs": [
    {
     "name": "stdout",
     "output_type": "stream",
     "text": [
      "Iteration 10 : Loss 2922.0603\n",
      "Iteration 20 : Loss 2920.3026\n",
      "Iteration 30 : Loss 2918.6844\n",
      "Iteration 40 : Loss 2917.1936\n",
      "Iteration 50 : Loss 2915.8194\n",
      "Iteration 60 : Loss 2914.5517\n",
      "Iteration 70 : Loss 2913.3817\n",
      "Iteration 80 : Loss 2912.3009\n",
      "Iteration 90 : Loss 2911.3020\n",
      "Iteration 100 : Loss 2910.3781\n",
      "Iteration 110 : Loss 2909.5230\n",
      "Iteration 120 : Loss 2908.7310\n",
      "Iteration 130 : Loss 2907.9970\n",
      "Iteration 140 : Loss 2907.3162\n",
      "Iteration 150 : Loss 2906.6844\n",
      "Iteration 160 : Loss 2906.0975\n",
      "Iteration 170 : Loss 2905.5519\n",
      "Iteration 180 : Loss 2905.0445\n",
      "Iteration 190 : Loss 2904.5721\n",
      "Iteration 200 : Loss 2904.1321\n",
      "Iteration 210 : Loss 2903.7218\n",
      "Iteration 220 : Loss 2903.3390\n",
      "Iteration 230 : Loss 2902.9815\n",
      "Iteration 240 : Loss 2902.6474\n",
      "Iteration 250 : Loss 2902.3350\n",
      "Iteration 260 : Loss 2902.0425\n",
      "Iteration 270 : Loss 2901.7686\n",
      "Iteration 280 : Loss 2901.5117\n",
      "Iteration 290 : Loss 2901.2706\n",
      "Iteration 300 : Loss 2901.0442\n",
      "Iteration 310 : Loss 2900.8314\n",
      "Iteration 320 : Loss 2900.6311\n",
      "Iteration 330 : Loss 2900.4426\n",
      "Iteration 340 : Loss 2900.2649\n",
      "Iteration 350 : Loss 2900.0972\n",
      "Iteration 360 : Loss 2899.9389\n",
      "Iteration 370 : Loss 2899.7893\n",
      "Iteration 380 : Loss 2899.6477\n",
      "Iteration 390 : Loss 2899.5137\n",
      "Iteration 400 : Loss 2899.3867\n",
      "Iteration 410 : Loss 2899.2661\n",
      "Iteration 420 : Loss 2899.1517\n",
      "Iteration 430 : Loss 2899.0429\n",
      "Iteration 440 : Loss 2898.9393\n",
      "Iteration 450 : Loss 2898.8407\n",
      "Iteration 460 : Loss 2898.7467\n",
      "Iteration 470 : Loss 2898.6570\n",
      "Iteration 480 : Loss 2898.5713\n",
      "Iteration 490 : Loss 2898.4893\n",
      "Iteration 500 : Loss 2898.4108\n",
      "Iteration 510 : Loss 2898.3356\n",
      "Iteration 520 : Loss 2898.2635\n",
      "Iteration 530 : Loss 2898.1942\n",
      "Iteration 540 : Loss 2898.1276\n",
      "Iteration 550 : Loss 2898.0635\n",
      "Iteration 560 : Loss 2898.0018\n",
      "Iteration 570 : Loss 2897.9423\n",
      "Iteration 580 : Loss 2897.8849\n",
      "Iteration 590 : Loss 2897.8294\n",
      "Iteration 600 : Loss 2897.7758\n",
      "Iteration 610 : Loss 2897.7239\n",
      "Iteration 620 : Loss 2897.6735\n",
      "Iteration 630 : Loss 2897.6247\n",
      "Iteration 640 : Loss 2897.5774\n",
      "Iteration 650 : Loss 2897.5313\n",
      "Iteration 660 : Loss 2897.4866\n",
      "Iteration 670 : Loss 2897.4430\n",
      "Iteration 680 : Loss 2897.4005\n",
      "Iteration 690 : Loss 2897.3591\n",
      "Iteration 700 : Loss 2897.3187\n",
      "Iteration 710 : Loss 2897.2792\n",
      "Iteration 720 : Loss 2897.2406\n",
      "Iteration 730 : Loss 2897.2028\n",
      "Iteration 740 : Loss 2897.1658\n",
      "Iteration 750 : Loss 2897.1296\n",
      "Iteration 760 : Loss 2897.0940\n",
      "Iteration 770 : Loss 2897.0591\n",
      "Iteration 780 : Loss 2897.0248\n",
      "Iteration 790 : Loss 2896.9912\n",
      "Iteration 800 : Loss 2896.9580\n",
      "Iteration 810 : Loss 2896.9254\n",
      "Iteration 820 : Loss 2896.8933\n",
      "Iteration 830 : Loss 2896.8617\n",
      "Iteration 840 : Loss 2896.8305\n",
      "Iteration 850 : Loss 2896.7997\n",
      "Iteration 860 : Loss 2896.7694\n",
      "Iteration 870 : Loss 2896.7394\n",
      "Iteration 880 : Loss 2896.7098\n",
      "Iteration 890 : Loss 2896.6805\n",
      "Iteration 900 : Loss 2896.6515\n",
      "Iteration 910 : Loss 2896.6228\n",
      "Iteration 920 : Loss 2896.5945\n",
      "Iteration 930 : Loss 2896.5664\n",
      "Iteration 940 : Loss 2896.5385\n",
      "Iteration 950 : Loss 2896.5109\n",
      "Iteration 960 : Loss 2896.4836\n",
      "Iteration 970 : Loss 2896.4565\n",
      "Iteration 980 : Loss 2896.4296\n",
      "Iteration 990 : Loss 2896.4028\n",
      "Iteration 1000 : Loss 2896.3763\n"
     ]
    }
   ],
   "source": [
    "losses = []\n",
    "\n",
    "for i in range(1, 1001):\n",
    "    dW, db = gradient(X_train, W, b, y_train)\n",
    "    W -= LEARNING_RATE * dW\n",
    "    b -= LEARNING_RATE * db\n",
    "    L = loss(X_train, W, b, y_train)\n",
    "    losses.append(L)\n",
    "    if i % 10 == 0:\n",
    "        print('Iteration %d : Loss %0.4f' % (i, L))"
   ]
  },
  {
   "cell_type": "code",
   "execution_count": 83,
   "id": "d0a10a81",
   "metadata": {},
   "outputs": [
    {
     "data": {
      "image/png": "[encoded data removed]",
      "text/plain": [
       "<Figure size 432x288 with 1 Axes>"
      ]
     },
     "metadata": {
      "needs_background": "light"
     },
     "output_type": "display_data"
    }
   ],
   "source": [
    "import matplotlib.pyplot as plt\n",
    "plt.plot(losses)\n",
    "plt.show()"
   ]
  },
  {
   "cell_type": "code",
   "execution_count": 84,
   "id": "06e612fa",
   "metadata": {},
   "outputs": [
    {
     "data": {
      "text/plain": [
       "(array([  41.2699552 , -239.93227039,  556.01374947,  342.11368963,\n",
       "        -113.43997137, -118.28530355, -209.19466006,  153.0301639 ,\n",
       "         422.33303326,   60.03522651]),\n",
       " 151.30267190532695)"
      ]
     },
     "execution_count": 84,
     "metadata": {},
     "output_type": "execute_result"
    }
   ],
   "source": [
    "W, b"
   ]
  },
  {
   "cell_type": "code",
   "execution_count": 85,
   "id": "8d4228d8",
   "metadata": {},
   "outputs": [
    {
     "data": {
      "text/plain": [
       "2883.7298826341485"
      ]
     },
     "execution_count": 85,
     "metadata": {},
     "output_type": "execute_result"
    }
   ],
   "source": [
    "prediction = model(X_test, W, b)\n",
    "mse = loss(X_test, W, b, y_test)\n",
    "mse"
   ]
  },
  {
   "cell_type": "code",
   "execution_count": 87,
   "id": "f872e2cc",
   "metadata": {},
   "outputs": [
    {
     "data": {
      "image/png": "[encoded data removed]",
      "text/plain": [
       "<Figure size 432x288 with 1 Axes>"
      ]
     },
     "metadata": {
      "needs_background": "light"
     },
     "output_type": "display_data"
    }
   ],
   "source": [
    "plt.scatter(X_test[:, 0], y_test)\n",
    "plt.scatter(X_test[:, 0], prediction)\n",
    "plt.show()"
   ]
  }
 ],
 "metadata": {
  "kernelspec": {
   "display_name": "Python 3 (ipykernel)",
   "language": "python",
   "name": "python3"
  },
  "language_info": {
   "codemirror_mode": {
    "name": "ipython",
    "version": 3
   },
   "file_extension": ".py",
   "mimetype": "text/x-python",
   "name": "python",
   "nbconvert_exporter": "python",
   "pygments_lexer": "ipython3",
   "version": "3.9.7"
  }
 },
 "nbformat": 4,
 "nbformat_minor": 5
}
